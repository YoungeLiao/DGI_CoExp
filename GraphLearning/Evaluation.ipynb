{
 "cells": [
  {
   "attachments": {},
   "cell_type": "markdown",
   "metadata": {},
   "source": [
    "# 3 External clustering evaluation"
   ]
  },
  {
   "attachments": {},
   "cell_type": "markdown",
   "metadata": {},
   "source": [
    "## 3.1 Mathmatical evaluation: SCI"
   ]
  },
  {
   "cell_type": "code",
   "execution_count": 1,
   "metadata": {},
   "outputs": [
    {
     "name": "stdout",
     "output_type": "stream",
     "text": [
      "Kmeans without subcellular information: 0.1831181694401295\n",
      "Kmeans with subcellular information: 0.13457301691358345\n",
      "DGI without subcellular information: 0.18504816673000304\n",
      "DGI with subcellular information: 0.19256539442997084\n",
      "HC: 0.0018333779252142142\n"
     ]
    }
   ],
   "source": [
    "import pandas as pd\n",
    "import numpy as np\n",
    "from sklearn import metrics\n",
    "from sklearn.metrics import pairwise_distances\n",
    "from sklearn import datasets\n",
    "\n",
    "x = np.loadtxt(\"./data/evalua_data/graph_data_BvsD.txt\") # v1: expression matrix/feature matrix, data matrix that we perform clustering on \n",
    "y_BvsD_subcel_Kmeans = np.loadtxt('./data/evalua_data/Kmeans_10cluster_BvsD_subcel_types.txt')\n",
    "y_BvsD_Kmeans = np.loadtxt('./data/evalua_data/Kmeans_10cluster_BvsD_types.txt')\n",
    "y_BvsD_dgi = np.loadtxt('./data/evalua_data/dgi_10cluster_BvsD_types.txt')\n",
    "y_BvsD_subcel_dgi = np.loadtxt('./data/evalua_data/dgi_subcel_10cluster_BvsD_types.txt')\n",
    "y_BvsD_HC = np.loadtxt('./data/evalua_data/HC_10cluster_BvsD_types.txt')\n",
    "# y_BvsD_HC = np.loadtxt('../output_data/types_BvsD_HC.txt')\n",
    "\n",
    "from sklearn.metrics import silhouette_score\n",
    "print(\"Kmeans without subcellular information:\", metrics.silhouette_score(x, y_BvsD_Kmeans, metric='euclidean'))\n",
    "print(\"Kmeans with subcellular information:\", metrics.silhouette_score(x, y_BvsD_subcel_Kmeans, metric='euclidean')) \n",
    "print(\"DGI without subcellular information:\", metrics.silhouette_score(x, y_BvsD_dgi, metric='euclidean'))\n",
    "print(\"DGI with subcellular information:\", metrics.silhouette_score(x, y_BvsD_subcel_dgi, metric='euclidean'))\n",
    "print(\"HC:\", metrics.silhouette_score(x, y_BvsD_HC, metric='euclidean'))\n",
    "\n",
    "\n",
    "# print(\"Kmeans:\", silhouette_score(x, y4_BvsD_Kmeans)) # Kmeans\n",
    "# print(\"HC:\", silhouette_score(x, y5_BvsD_HC)) # HC\n",
    "\n"
   ]
  },
  {
   "attachments": {},
   "cell_type": "markdown",
   "metadata": {},
   "source": [
    "## 3.2 Biological evaluation: (Function assignment score) FAS"
   ]
  },
  {
   "cell_type": "code",
   "execution_count": null,
   "metadata": {},
   "outputs": [],
   "source": [
    "# import modules\n",
    "import pandas as pd \n",
    "import numpy as np\n",
    "import os\n",
    "# Load data\n",
    "cluster_label = pd.read_csv('./data/label_processed/tsne_BvsD_labels_all_7cluster.csv')\n",
    "fpkm = pd.read_table('./data/raw_dataset/gene_fpkm_all_samples.txt')\n",
    "annotation = pd.read_csv('./data/annotations/Annotation_Expre.csv')\n",
    "kegg_anno = pd.read_csv('./data/annotations/kegg_annotation_all.csv')"
   ]
  },
  {
   "cell_type": "code",
   "execution_count": null,
   "metadata": {},
   "outputs": [],
   "source": [
    "# define FAS function\n",
    "def FAS(cluster_label, fpkm, annotation, kegg_anno):\n",
    "    # match data matrix\n",
    "    matched = pd.merge(cluster_label, annotation, left_on = 'gene_id', right_on = 'gene_id', how = 'outer', indicator = False)\n",
    "    matched_kegg = pd.merge(matched, kegg_anno, on = 'gene_id', how = 'inner', indicator = False)\n",
    "    \n",
    "    # grep functions\n",
    "    photosynthesis = matched_kegg[matched_kegg['level3_pathway_name'].str.contains(\"Photosynthesis\")]\n",
    "    peroxisome = matched_kegg[matched_kegg['level3_pathway_name'].str.contains(\"Peroxisome\")]\n",
    "    fun = peroxisome\n",
    "    \n",
    "    # create data frame from `fun$DGI_label` column\n",
    "    data = pd.DataFrame({'Var1': fun['DGI_label']})\n",
    "    data = data.groupby('Var1').size().reset_index(name='Freq')\n",
    "\n",
    "    # create data frame from `matched_kegg$DGI_label` column\n",
    "    ref = pd.DataFrame({'Var1': matched_kegg['DGI_label']})\n",
    "    ref = ref.groupby('Var1').size().reset_index(name='Freq')\n",
    "\n",
    "    # merge data frames on `Var1` column\n",
    "    data_ref = pd.merge(data, ref, on='Var1')\n",
    "\n",
    "    # obtain genes ratio\n",
    "    result = pd.DataFrame(data_ref['Freq_x'] / data_ref['Freq_y'], columns=['Freq'])\n",
    "    result_ordered = result.sort_values('Freq', ascending=False)\n",
    "    \n",
    "    # calculate FAS (score)\n",
    "    result_ordered = result_ordered.squeeze()\n",
    "    if len(result_ordered) > 2:\n",
    "        score_raw = sum(result_ordered[:2]) - sum(result_ordered[2:])\n",
    "    else:\n",
    "        score_raw = sum(result_ordered)\n",
    "    score = score_raw / (data_ref['Freq_x'].sum() / data_ref['Freq_y'].sum())\n",
    "    \n",
    "    return score"
   ]
  },
  {
   "cell_type": "code",
   "execution_count": null,
   "metadata": {},
   "outputs": [],
   "source": [
    "# Utilization\n",
    "FAS = FAS(cluster_label, fpkm, annotation, kegg_anno)"
   ]
  }
 ],
 "metadata": {
  "kernelspec": {
   "display_name": "base",
   "language": "python",
   "name": "python3"
  },
  "language_info": {
   "codemirror_mode": {
    "name": "ipython",
    "version": 3
   },
   "file_extension": ".py",
   "mimetype": "text/x-python",
   "name": "python",
   "nbconvert_exporter": "python",
   "pygments_lexer": "ipython3",
   "version": "3.8.10"
  },
  "orig_nbformat": 4,
  "vscode": {
   "interpreter": {
    "hash": "ab4dcb1bae8f448b9b9fe77f8cab60f1cda38e9db489eb4e80454c5b03eb1f7d"
   }
  }
 },
 "nbformat": 4,
 "nbformat_minor": 2
}
